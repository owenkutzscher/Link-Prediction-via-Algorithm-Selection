{
 "cells": [
  {
   "cell_type": "markdown",
   "id": "dad63352-dcf2-42cb-b52d-ec181e60b5e8",
   "metadata": {},
   "source": [
    "# Predictor Data Normalization & Noiseification"
   ]
  },
  {
   "cell_type": "code",
   "execution_count": 1,
   "id": "50c9228d-eb61-4a35-a5ec-ba13cd75f50d",
   "metadata": {},
   "outputs": [],
   "source": [
    "import networkx as nx\n",
    "from networkx.algorithms.link_prediction import jaccard_coefficient\n",
    "\n",
    "import random\n",
    "\n",
    "import numpy as np\n",
    "import matplotlib\n",
    "import matplotlib.pylab as plt\n",
    "import pickle\n",
    "%matplotlib inline\n",
    "\n",
    "from sklearn.model_selection import train_test_split\n",
    "\n",
    "from concurrent.futures import ProcessPoolExecutor\n",
    "\n",
    "import copy"
   ]
  },
  {
   "cell_type": "markdown",
   "id": "1d79c9df-e858-4c62-ad99-91f95d0114c0",
   "metadata": {},
   "source": [
    "## Import the Raw Predictor Scores"
   ]
  },
  {
   "cell_type": "code",
   "execution_count": 2,
   "id": "4c4225f4-778a-4385-aa24-b7b68866052c",
   "metadata": {},
   "outputs": [
    {
     "name": "stdout",
     "output_type": "stream",
     "text": [
      "Data shape: (382060, 1)\n"
     ]
    }
   ],
   "source": [
    "# Retrieve data \n",
    "with open('02-predictor-data/raw/predictors.pkl', 'rb') as f:\n",
    "    predictors = pickle.load(f)\n",
    "    \n",
    "jacc_edge_scores = predictors[0]\n",
    "adamic_adar_edge_scores = predictors[1]\n",
    "geodesic_edge_scores = predictors[2]\n",
    "common_neighbors_edge_scores = predictors[3]\n",
    "degree_prod_edge_scores = predictors[4]\n",
    "baseline_edge_scores = predictors[5]\n",
    "\n",
    "print('Data shape:', predictors[0][0].shape)"
   ]
  },
  {
   "cell_type": "code",
   "execution_count": 3,
   "id": "3c97e3e9",
   "metadata": {},
   "outputs": [
    {
     "name": "stdout",
     "output_type": "stream",
     "text": [
      "Predictor: Jaccard Coefficient\n",
      "  Max score: 1.0\n",
      "  Min score: 0.0\n",
      "----------------------------------------\n",
      "Predictor: Adamic-Adar Index\n",
      "  Max score: 35.633264420546055\n",
      "  Min score: 0.0\n",
      "----------------------------------------\n",
      "Predictor: Geodesic Distance\n",
      "  Max score: 16\n",
      "  Min score: 0\n",
      "----------------------------------------\n",
      "Predictor: Common Neighbors\n",
      "  Max score: 51\n",
      "  Min score: 0\n",
      "----------------------------------------\n",
      "Predictor: Degree Product\n",
      "  Max score: 19824\n",
      "  Min score: 1\n",
      "----------------------------------------\n",
      "Predictor: Baseline\n",
      "  Max score: 0.9999993663479336\n",
      "  Min score: 1.3326382886091892e-08\n",
      "----------------------------------------\n"
     ]
    }
   ],
   "source": [
    "# Predictor names\n",
    "predictor_names = ['Jaccard Coefficient', 'Adamic-Adar Index', 'Geodesic Distance',\n",
    "                   'Common Neighbors', 'Degree Product', 'Baseline']\n",
    "\n",
    "# Sanity check for predictors: Find highest and lowest scores\n",
    "for i, predictor in enumerate(predictors):\n",
    "    all_scores = np.concatenate(predictor)  # Flatten all graphs' scores into one array\n",
    "    max_score = np.max(all_scores)\n",
    "    min_score = np.min(all_scores)\n",
    "    print(f'Predictor: {predictor_names[i]}')\n",
    "    print(f'  Max score: {max_score}')\n",
    "    print(f'  Min score: {min_score}')\n",
    "    print('-' * 40)"
   ]
  },
  {
   "cell_type": "markdown",
   "id": "1b806e76-4ce0-4144-842e-948792f316b6",
   "metadata": {},
   "source": [
    "## Add Noise to Data"
   ]
  },
  {
   "cell_type": "code",
   "execution_count": 4,
   "id": "438061bd-0360-4417-80cd-da06a6e6ff8b",
   "metadata": {},
   "outputs": [
    {
     "name": "stdout",
     "output_type": "stream",
     "text": [
      "Sample edge prediction before noise: [0.]\n",
      "Sample edge prediction after noise: [8.06527422e-11]\n",
      "Data shape: (382060, 1)\n"
     ]
    }
   ],
   "source": [
    "p = 0\n",
    "g = 0\n",
    "e = 5\n",
    "print('Sample edge prediction before noise:', predictors[p][g][e])\n",
    "\n",
    "\n",
    "def add_noise(predictors):\n",
    "    small_val = 1e-10 # This value should be small enough\n",
    "\n",
    "    for i in range(len(predictors)): # On each predictor\n",
    "        for j in range(len(predictors[i])): # On each graph's edge predictions\n",
    "            G = predictors[i][j]\n",
    "            noise = np.random.uniform(0,small_val,G.shape) # Add random noise to each edge\n",
    "            predictors[i][j] = G + noise\n",
    "\n",
    "    return predictors\n",
    "\n",
    "\n",
    "\n",
    "predictors = add_noise(predictors)   \n",
    " \n",
    "print('Sample edge prediction after noise:', predictors[p][g][e])\n",
    "\n",
    "print('Data shape:', predictors[0][0].shape)"
   ]
  },
  {
   "cell_type": "code",
   "execution_count": 5,
   "id": "7877b3fb",
   "metadata": {},
   "outputs": [
    {
     "name": "stdout",
     "output_type": "stream",
     "text": [
      "Predictor: Jaccard Coefficient\n",
      "  Max score: 1.0000000000999631\n",
      "  Min score: 1.3459456515985125e-17\n",
      "----------------------------------------\n",
      "Predictor: Adamic-Adar Index\n",
      "  Max score: 35.633264420608846\n",
      "  Min score: 2.4350845861942363e-17\n",
      "----------------------------------------\n",
      "Predictor: Geodesic Distance\n",
      "  Max score: 16.000000000028052\n",
      "  Min score: 7.26407975648602e-16\n",
      "----------------------------------------\n",
      "Predictor: Common Neighbors\n",
      "  Max score: 51.000000000072745\n",
      "  Min score: 6.463928379218942e-17\n",
      "----------------------------------------\n",
      "Predictor: Degree Product\n",
      "  Max score: 19824.000000000047\n",
      "  Min score: 1.0000000000000004\n",
      "----------------------------------------\n",
      "Predictor: Baseline\n",
      "  Max score: 0.9999993663547578\n",
      "  Min score: 1.3393038950992216e-08\n",
      "----------------------------------------\n"
     ]
    }
   ],
   "source": [
    "# Sanity check\n",
    "\n",
    "\n",
    "# Predictor names\n",
    "predictor_names = ['Jaccard Coefficient', 'Adamic-Adar Index', 'Geodesic Distance',\n",
    "                   'Common Neighbors', 'Degree Product', 'Baseline']\n",
    "\n",
    "# Sanity check for predictors: Find highest and lowest scores\n",
    "for i, predictor in enumerate(predictors):\n",
    "    all_scores = np.concatenate(predictor)  # Flatten all graphs' scores into one array\n",
    "    max_score = np.max(all_scores)\n",
    "    min_score = np.min(all_scores)\n",
    "    print(f'Predictor: {predictor_names[i]}')\n",
    "    print(f'  Max score: {max_score}')\n",
    "    print(f'  Min score: {min_score}')\n",
    "    print('-' * 40)"
   ]
  },
  {
   "cell_type": "markdown",
   "id": "b786f7db-c5d1-4968-8ef8-76bc9cbcbd8c",
   "metadata": {},
   "source": [
    "## Normalize Data\n",
    "\n",
    "small_val = 1e-10 # This value should be small enough\n",
    "\n",
    "Later down the line, we will make an AUC curve of the models predictions. The predictions it makes will be 1 predictor (which it selects) for each edge. Therefore all the predictors need to be on the same scale for consistent comparison.\n",
    "\n",
    "We need each predictor to have its highest values scaled so they are close to 1 and its lowest values scaled so they are close to 0. With that in mind we need to invert the scores of geodesic distnace since it's our only predictor where a larger score means a smaller likleyhood of two nodes sharing an edge\n",
    "\n"
   ]
  },
  {
   "cell_type": "code",
   "execution_count": 6,
   "id": "4c2a4554-d93d-4f1c-bd25-e13bc7486339",
   "metadata": {},
   "outputs": [],
   "source": [
    "def normalize_predictors(predictors):\n",
    "    predictor_names = ['Jaccard Coefficient', 'Adamic-Adar Index', 'Geodesic Distance',\n",
    "                   'Common Neighbors', 'Degree Product', 'Baseline']\n",
    "    for i, predictor in enumerate(predictors):\n",
    "        for g, graph_scores in enumerate(predictor):\n",
    "            if predictor_names[i] == \"Jaccard Coefficient\":\n",
    "                predictors[i][g] = (graph_scores - graph_scores.min()) / (graph_scores.max() - graph_scores.min())\n",
    "            elif predictor_names[i] == \"Adamic-Adar Index\":\n",
    "                predictors[i][g] = np.log(1 + graph_scores) / np.log(1 + graph_scores.max())\n",
    "            elif predictor_names[i] == \"Geodesic Distance\":\n",
    "                predictors[i][g] = 1 / (1 + graph_scores)\n",
    "            elif predictor_names[i] == \"Common Neighbors\":\n",
    "                predictors[i][g] = np.log(1 + graph_scores) / np.log(1 + graph_scores.max())\n",
    "            elif predictor_names[i] == \"Degree Product\":\n",
    "                predictors[i][g] = np.log(1 + graph_scores) / np.log(1 + graph_scores.max())\n",
    "            elif predictor_names[i] == \"Baseline\":\n",
    "                predictors[i][g] = (graph_scores - graph_scores.min()) / (graph_scores.max() - graph_scores.min())\n",
    "\n",
    "    return predictors\n",
    "\n",
    "\n",
    "predictors = normalize_predictors(predictors)"
   ]
  },
  {
   "cell_type": "markdown",
   "id": "41fe1aa7",
   "metadata": {},
   "source": [
    "## Sanity check for outliars"
   ]
  },
  {
   "cell_type": "code",
   "execution_count": 7,
   "id": "43198af0",
   "metadata": {},
   "outputs": [
    {
     "name": "stdout",
     "output_type": "stream",
     "text": [
      "Predictor: Jaccard Coefficient\n",
      "  Max score: 1.0\n",
      "  Min score: 0.0\n",
      "----------------------------------------\n",
      "Predictor: Adamic-Adar Index\n",
      "  Max score: 1.0\n",
      "  Min score: 0.0\n",
      "----------------------------------------\n",
      "Predictor: Geodesic Distance\n",
      "  Max score: 0.9999999999999993\n",
      "  Min score: 0.05882352941166764\n",
      "----------------------------------------\n",
      "Predictor: Common Neighbors\n",
      "  Max score: 1.0\n",
      "  Min score: 0.0\n",
      "----------------------------------------\n",
      "Predictor: Degree Product\n",
      "  Max score: 1.0\n",
      "  Min score: 0.07005237625745932\n",
      "----------------------------------------\n",
      "Predictor: Baseline\n",
      "  Max score: 1.0\n",
      "  Min score: 0.0\n",
      "----------------------------------------\n"
     ]
    }
   ],
   "source": [
    "# Predictor names\n",
    "predictor_names = ['Jaccard Coefficient', 'Adamic-Adar Index', 'Geodesic Distance',\n",
    "                   'Common Neighbors', 'Degree Product', 'Baseline']\n",
    "\n",
    "# Sanity check for predictors: Find highest and lowest scores\n",
    "for i, predictor in enumerate(predictors):\n",
    "    all_scores = np.concatenate(predictor)  # Flatten all graphs' scores into one array\n",
    "    max_score = np.max(all_scores)\n",
    "    min_score = np.min(all_scores)\n",
    "    print(f'Predictor: {predictor_names[i]}')\n",
    "    print(f'  Max score: {max_score}')\n",
    "    print(f'  Min score: {min_score}')\n",
    "    print('-' * 40)"
   ]
  },
  {
   "cell_type": "code",
   "execution_count": 8,
   "id": "b28e2553",
   "metadata": {},
   "outputs": [
    {
     "data": {
      "text/plain": [
       "(382060, 1)"
      ]
     },
     "execution_count": 8,
     "metadata": {},
     "output_type": "execute_result"
    }
   ],
   "source": [
    "# Sanity check, check shape of predictors\n",
    "predictors[0][0].shape"
   ]
  },
  {
   "cell_type": "markdown",
   "id": "a2db00fa",
   "metadata": {},
   "source": [
    "# Save the Data"
   ]
  },
  {
   "cell_type": "code",
   "execution_count": 9,
   "id": "68e3b85a",
   "metadata": {},
   "outputs": [],
   "source": [
    "predictors = copy.deepcopy([jacc_edge_scores, adamic_adar_edge_scores, geodesic_edge_scores, \n",
    "              common_neighbors_edge_scores, degree_prod_edge_scores, \n",
    "             baseline_edge_scores])\n",
    "\n",
    "# Save data \n",
    "with open('03-normalized-data/predictors.pkl', 'wb') as f:\n",
    "    pickle.dump(predictors, f)\n"
   ]
  },
  {
   "cell_type": "markdown",
   "id": "40b4a236-e769-4a15-85c9-4fb93d044b86",
   "metadata": {},
   "source": [
    "# Explore the Data"
   ]
  },
  {
   "cell_type": "code",
   "execution_count": 10,
   "id": "1cee61a0-bef6-4d53-9a71-9ba95088ba4f",
   "metadata": {},
   "outputs": [],
   "source": [
    "# Copy data\n",
    "# (So I can run these cellsmultiple times and not run all cells from the beginning!)\n",
    "predictors = copy.deepcopy([jacc_edge_scores, adamic_adar_edge_scores, geodesic_edge_scores, \n",
    "              common_neighbors_edge_scores, degree_prod_edge_scores, \n",
    "             baseline_edge_scores])"
   ]
  },
  {
   "cell_type": "code",
   "execution_count": 11,
   "id": "73c9751a",
   "metadata": {},
   "outputs": [
    {
     "data": {
      "text/plain": [
       "\"\\nUp until here I've been writing things in my own code\\nI have just realized that we dont need to submit any code for this final project :)\\nGiven than I am very confident in python, data analysis and machine learning,\\nI am going to start using chat gpt super heavily!!!\\nThis should accelerate the progress of the project a lot\\nAlso I'd guess I'm going to run into some crazy bumps later.\\nSo it totally makes sense I do this to more rapidly expirament!\\n\\nCheers!\\n\""
      ]
     },
     "execution_count": 11,
     "metadata": {},
     "output_type": "execute_result"
    }
   ],
   "source": [
    "'''\n",
    "Up until here I've been writing things in my own code\n",
    "I have just realized that we dont need to submit any code for this final project :)\n",
    "Given than I am very confident in python, data analysis and machine learning,\n",
    "I am going to start using chat gpt super heavily!!!\n",
    "This should accelerate the progress of the project a lot\n",
    "Also I'd guess I'm going to run into some crazy bumps later.\n",
    "So it totally makes sense I do this to more rapidly expirament!\n",
    "\n",
    "Cheers!\n",
    "'''"
   ]
  },
  {
   "cell_type": "code",
   "execution_count": 12,
   "id": "b0adabf0",
   "metadata": {},
   "outputs": [
    {
     "data": {
      "image/png": "[encoded data removed]",
      "text/plain": [
       "<Figure size 800x600 with 1 Axes>"
      ]
     },
     "metadata": {},
     "output_type": "display_data"
    },
    {
     "ename": "KeyboardInterrupt",
     "evalue": "",
     "output_type": "error",
     "traceback": [
      "\u001b[0;31m---------------------------------------------------------------------------\u001b[0m",
      "\u001b[0;31mKeyboardInterrupt\u001b[0m                         Traceback (most recent call last)",
      "Cell \u001b[0;32mIn[12], line 63\u001b[0m\n\u001b[1;32m     61\u001b[0m plt\u001b[38;5;241m.\u001b[39mylabel(\u001b[38;5;124m'\u001b[39m\u001b[38;5;124mLog Frequency\u001b[39m\u001b[38;5;124m'\u001b[39m)\n\u001b[1;32m     62\u001b[0m plt\u001b[38;5;241m.\u001b[39mgrid(axis\u001b[38;5;241m=\u001b[39m\u001b[38;5;124m'\u001b[39m\u001b[38;5;124my\u001b[39m\u001b[38;5;124m'\u001b[39m, linestyle\u001b[38;5;241m=\u001b[39m\u001b[38;5;124m'\u001b[39m\u001b[38;5;124m--\u001b[39m\u001b[38;5;124m'\u001b[39m, alpha\u001b[38;5;241m=\u001b[39m\u001b[38;5;241m0.7\u001b[39m)\n\u001b[0;32m---> 63\u001b[0m plt\u001b[38;5;241m.\u001b[39mshow()\n",
      "File \u001b[0;32m~/anaconda3/lib/python3.11/site-packages/matplotlib/pyplot.py:446\u001b[0m, in \u001b[0;36mshow\u001b[0;34m(*args, **kwargs)\u001b[0m\n\u001b[1;32m    402\u001b[0m \u001b[38;5;250m\u001b[39m\u001b[38;5;124;03m\"\"\"\u001b[39;00m\n\u001b[1;32m    403\u001b[0m \u001b[38;5;124;03mDisplay all open figures.\u001b[39;00m\n\u001b[1;32m    404\u001b[0m \n\u001b[0;32m   (...)\u001b[0m\n\u001b[1;32m    443\u001b[0m \u001b[38;5;124;03mexplicitly there.\u001b[39;00m\n\u001b[1;32m    444\u001b[0m \u001b[38;5;124;03m\"\"\"\u001b[39;00m\n\u001b[1;32m    445\u001b[0m _warn_if_gui_out_of_main_thread()\n\u001b[0;32m--> 446\u001b[0m \u001b[38;5;28;01mreturn\u001b[39;00m _get_backend_mod()\u001b[38;5;241m.\u001b[39mshow(\u001b[38;5;241m*\u001b[39margs, \u001b[38;5;241m*\u001b[39m\u001b[38;5;241m*\u001b[39mkwargs)\n",
      "File \u001b[0;32m~/anaconda3/lib/python3.11/site-packages/matplotlib_inline/backend_inline.py:90\u001b[0m, in \u001b[0;36mshow\u001b[0;34m(close, block)\u001b[0m\n\u001b[1;32m     88\u001b[0m \u001b[38;5;28;01mtry\u001b[39;00m:\n\u001b[1;32m     89\u001b[0m     \u001b[38;5;28;01mfor\u001b[39;00m figure_manager \u001b[38;5;129;01min\u001b[39;00m Gcf\u001b[38;5;241m.\u001b[39mget_all_fig_managers():\n\u001b[0;32m---> 90\u001b[0m         display(\n\u001b[1;32m     91\u001b[0m             figure_manager\u001b[38;5;241m.\u001b[39mcanvas\u001b[38;5;241m.\u001b[39mfigure,\n\u001b[1;32m     92\u001b[0m             metadata\u001b[38;5;241m=\u001b[39m_fetch_figure_metadata(figure_manager\u001b[38;5;241m.\u001b[39mcanvas\u001b[38;5;241m.\u001b[39mfigure)\n\u001b[1;32m     93\u001b[0m         )\n\u001b[1;32m     94\u001b[0m \u001b[38;5;28;01mfinally\u001b[39;00m:\n\u001b[1;32m     95\u001b[0m     show\u001b[38;5;241m.\u001b[39m_to_draw \u001b[38;5;241m=\u001b[39m []\n",
      "File \u001b[0;32m~/anaconda3/lib/python3.11/site-packages/IPython/core/display_functions.py:298\u001b[0m, in \u001b[0;36mdisplay\u001b[0;34m(include, exclude, metadata, transient, display_id, raw, clear, *objs, **kwargs)\u001b[0m\n\u001b[1;32m    296\u001b[0m     publish_display_data(data\u001b[38;5;241m=\u001b[39mobj, metadata\u001b[38;5;241m=\u001b[39mmetadata, \u001b[38;5;241m*\u001b[39m\u001b[38;5;241m*\u001b[39mkwargs)\n\u001b[1;32m    297\u001b[0m \u001b[38;5;28;01melse\u001b[39;00m:\n\u001b[0;32m--> 298\u001b[0m     format_dict, md_dict \u001b[38;5;241m=\u001b[39m \u001b[38;5;28mformat\u001b[39m(obj, include\u001b[38;5;241m=\u001b[39minclude, exclude\u001b[38;5;241m=\u001b[39mexclude)\n\u001b[1;32m    299\u001b[0m     \u001b[38;5;28;01mif\u001b[39;00m \u001b[38;5;129;01mnot\u001b[39;00m format_dict:\n\u001b[1;32m    300\u001b[0m         \u001b[38;5;66;03m# nothing to display (e.g. _ipython_display_ took over)\u001b[39;00m\n\u001b[1;32m    301\u001b[0m         \u001b[38;5;28;01mcontinue\u001b[39;00m\n",
      "File \u001b[0;32m~/anaconda3/lib/python3.11/site-packages/IPython/core/formatters.py:179\u001b[0m, in \u001b[0;36mDisplayFormatter.format\u001b[0;34m(self, obj, include, exclude)\u001b[0m\n\u001b[1;32m    177\u001b[0m md \u001b[38;5;241m=\u001b[39m \u001b[38;5;28;01mNone\u001b[39;00m\n\u001b[1;32m    178\u001b[0m \u001b[38;5;28;01mtry\u001b[39;00m:\n\u001b[0;32m--> 179\u001b[0m     data \u001b[38;5;241m=\u001b[39m formatter(obj)\n\u001b[1;32m    180\u001b[0m \u001b[38;5;28;01mexcept\u001b[39;00m:\n\u001b[1;32m    181\u001b[0m     \u001b[38;5;66;03m# FIXME: log the exception\u001b[39;00m\n\u001b[1;32m    182\u001b[0m     \u001b[38;5;28;01mraise\u001b[39;00m\n",
      "File \u001b[0;32m~/anaconda3/lib/python3.11/site-packages/decorator.py:232\u001b[0m, in \u001b[0;36mdecorate.<locals>.fun\u001b[0;34m(*args, **kw)\u001b[0m\n\u001b[1;32m    230\u001b[0m \u001b[38;5;28;01mif\u001b[39;00m \u001b[38;5;129;01mnot\u001b[39;00m kwsyntax:\n\u001b[1;32m    231\u001b[0m     args, kw \u001b[38;5;241m=\u001b[39m fix(args, kw, sig)\n\u001b[0;32m--> 232\u001b[0m \u001b[38;5;28;01mreturn\u001b[39;00m caller(func, \u001b[38;5;241m*\u001b[39m(extras \u001b[38;5;241m+\u001b[39m args), \u001b[38;5;241m*\u001b[39m\u001b[38;5;241m*\u001b[39mkw)\n",
      "File \u001b[0;32m~/anaconda3/lib/python3.11/site-packages/IPython/core/formatters.py:223\u001b[0m, in \u001b[0;36mcatch_format_error\u001b[0;34m(method, self, *args, **kwargs)\u001b[0m\n\u001b[1;32m    221\u001b[0m \u001b[38;5;250m\u001b[39m\u001b[38;5;124;03m\"\"\"show traceback on failed format call\"\"\"\u001b[39;00m\n\u001b[1;32m    222\u001b[0m \u001b[38;5;28;01mtry\u001b[39;00m:\n\u001b[0;32m--> 223\u001b[0m     r \u001b[38;5;241m=\u001b[39m method(\u001b[38;5;28mself\u001b[39m, \u001b[38;5;241m*\u001b[39margs, \u001b[38;5;241m*\u001b[39m\u001b[38;5;241m*\u001b[39mkwargs)\n\u001b[1;32m    224\u001b[0m \u001b[38;5;28;01mexcept\u001b[39;00m \u001b[38;5;167;01mNotImplementedError\u001b[39;00m:\n\u001b[1;32m    225\u001b[0m     \u001b[38;5;66;03m# don't warn on NotImplementedErrors\u001b[39;00m\n\u001b[1;32m    226\u001b[0m     \u001b[38;5;28;01mreturn\u001b[39;00m \u001b[38;5;28mself\u001b[39m\u001b[38;5;241m.\u001b[39m_check_return(\u001b[38;5;28;01mNone\u001b[39;00m, args[\u001b[38;5;241m0\u001b[39m])\n",
      "File \u001b[0;32m~/anaconda3/lib/python3.11/site-packages/IPython/core/formatters.py:340\u001b[0m, in \u001b[0;36mBaseFormatter.__call__\u001b[0;34m(self, obj)\u001b[0m\n\u001b[1;32m    338\u001b[0m     \u001b[38;5;28;01mpass\u001b[39;00m\n\u001b[1;32m    339\u001b[0m \u001b[38;5;28;01melse\u001b[39;00m:\n\u001b[0;32m--> 340\u001b[0m     \u001b[38;5;28;01mreturn\u001b[39;00m printer(obj)\n\u001b[1;32m    341\u001b[0m \u001b[38;5;66;03m# Finally look for special method names\u001b[39;00m\n\u001b[1;32m    342\u001b[0m method \u001b[38;5;241m=\u001b[39m get_real_method(obj, \u001b[38;5;28mself\u001b[39m\u001b[38;5;241m.\u001b[39mprint_method)\n",
      "File \u001b[0;32m~/anaconda3/lib/python3.11/site-packages/IPython/core/pylabtools.py:152\u001b[0m, in \u001b[0;36mprint_figure\u001b[0;34m(fig, fmt, bbox_inches, base64, **kwargs)\u001b[0m\n\u001b[1;32m    149\u001b[0m     \u001b[38;5;28;01mfrom\u001b[39;00m \u001b[38;5;21;01mmatplotlib\u001b[39;00m\u001b[38;5;21;01m.\u001b[39;00m\u001b[38;5;21;01mbackend_bases\u001b[39;00m \u001b[38;5;28;01mimport\u001b[39;00m FigureCanvasBase\n\u001b[1;32m    150\u001b[0m     FigureCanvasBase(fig)\n\u001b[0;32m--> 152\u001b[0m fig\u001b[38;5;241m.\u001b[39mcanvas\u001b[38;5;241m.\u001b[39mprint_figure(bytes_io, \u001b[38;5;241m*\u001b[39m\u001b[38;5;241m*\u001b[39mkw)\n\u001b[1;32m    153\u001b[0m data \u001b[38;5;241m=\u001b[39m bytes_io\u001b[38;5;241m.\u001b[39mgetvalue()\n\u001b[1;32m    154\u001b[0m \u001b[38;5;28;01mif\u001b[39;00m fmt \u001b[38;5;241m==\u001b[39m \u001b[38;5;124m'\u001b[39m\u001b[38;5;124msvg\u001b[39m\u001b[38;5;124m'\u001b[39m:\n",
      "File \u001b[0;32m~/anaconda3/lib/python3.11/site-packages/matplotlib/backend_bases.py:2342\u001b[0m, in \u001b[0;36mFigureCanvasBase.print_figure\u001b[0;34m(self, filename, dpi, facecolor, edgecolor, orientation, format, bbox_inches, pad_inches, bbox_extra_artists, backend, **kwargs)\u001b[0m\n\u001b[1;32m   2336\u001b[0m     renderer \u001b[38;5;241m=\u001b[39m _get_renderer(\n\u001b[1;32m   2337\u001b[0m         \u001b[38;5;28mself\u001b[39m\u001b[38;5;241m.\u001b[39mfigure,\n\u001b[1;32m   2338\u001b[0m         functools\u001b[38;5;241m.\u001b[39mpartial(\n\u001b[1;32m   2339\u001b[0m             print_method, orientation\u001b[38;5;241m=\u001b[39morientation)\n\u001b[1;32m   2340\u001b[0m     )\n\u001b[1;32m   2341\u001b[0m     \u001b[38;5;28;01mwith\u001b[39;00m \u001b[38;5;28mgetattr\u001b[39m(renderer, \u001b[38;5;124m\"\u001b[39m\u001b[38;5;124m_draw_disabled\u001b[39m\u001b[38;5;124m\"\u001b[39m, nullcontext)():\n\u001b[0;32m-> 2342\u001b[0m         \u001b[38;5;28mself\u001b[39m\u001b[38;5;241m.\u001b[39mfigure\u001b[38;5;241m.\u001b[39mdraw(renderer)\n\u001b[1;32m   2344\u001b[0m \u001b[38;5;28;01mif\u001b[39;00m bbox_inches:\n\u001b[1;32m   2345\u001b[0m     \u001b[38;5;28;01mif\u001b[39;00m bbox_inches \u001b[38;5;241m==\u001b[39m \u001b[38;5;124m\"\u001b[39m\u001b[38;5;124mtight\u001b[39m\u001b[38;5;124m\"\u001b[39m:\n",
      "File \u001b[0;32m~/anaconda3/lib/python3.11/site-packages/matplotlib/artist.py:95\u001b[0m, in \u001b[0;36m_finalize_rasterization.<locals>.draw_wrapper\u001b[0;34m(artist, renderer, *args, **kwargs)\u001b[0m\n\u001b[1;32m     93\u001b[0m \u001b[38;5;129m@wraps\u001b[39m(draw)\n\u001b[1;32m     94\u001b[0m \u001b[38;5;28;01mdef\u001b[39;00m \u001b[38;5;21mdraw_wrapper\u001b[39m(artist, renderer, \u001b[38;5;241m*\u001b[39margs, \u001b[38;5;241m*\u001b[39m\u001b[38;5;241m*\u001b[39mkwargs):\n\u001b[0;32m---> 95\u001b[0m     result \u001b[38;5;241m=\u001b[39m draw(artist, renderer, \u001b[38;5;241m*\u001b[39margs, \u001b[38;5;241m*\u001b[39m\u001b[38;5;241m*\u001b[39mkwargs)\n\u001b[1;32m     96\u001b[0m     \u001b[38;5;28;01mif\u001b[39;00m renderer\u001b[38;5;241m.\u001b[39m_rasterizing:\n\u001b[1;32m     97\u001b[0m         renderer\u001b[38;5;241m.\u001b[39mstop_rasterizing()\n",
      "File \u001b[0;32m~/anaconda3/lib/python3.11/site-packages/matplotlib/artist.py:72\u001b[0m, in \u001b[0;36mallow_rasterization.<locals>.draw_wrapper\u001b[0;34m(artist, renderer)\u001b[0m\n\u001b[1;32m     69\u001b[0m     \u001b[38;5;28;01mif\u001b[39;00m artist\u001b[38;5;241m.\u001b[39mget_agg_filter() \u001b[38;5;129;01mis\u001b[39;00m \u001b[38;5;129;01mnot\u001b[39;00m \u001b[38;5;28;01mNone\u001b[39;00m:\n\u001b[1;32m     70\u001b[0m         renderer\u001b[38;5;241m.\u001b[39mstart_filter()\n\u001b[0;32m---> 72\u001b[0m     \u001b[38;5;28;01mreturn\u001b[39;00m draw(artist, renderer)\n\u001b[1;32m     73\u001b[0m \u001b[38;5;28;01mfinally\u001b[39;00m:\n\u001b[1;32m     74\u001b[0m     \u001b[38;5;28;01mif\u001b[39;00m artist\u001b[38;5;241m.\u001b[39mget_agg_filter() \u001b[38;5;129;01mis\u001b[39;00m \u001b[38;5;129;01mnot\u001b[39;00m \u001b[38;5;28;01mNone\u001b[39;00m:\n",
      "File \u001b[0;32m~/anaconda3/lib/python3.11/site-packages/matplotlib/figure.py:3175\u001b[0m, in \u001b[0;36mFigure.draw\u001b[0;34m(self, renderer)\u001b[0m\n\u001b[1;32m   3172\u001b[0m         \u001b[38;5;66;03m# ValueError can occur when resizing a window.\u001b[39;00m\n\u001b[1;32m   3174\u001b[0m \u001b[38;5;28mself\u001b[39m\u001b[38;5;241m.\u001b[39mpatch\u001b[38;5;241m.\u001b[39mdraw(renderer)\n\u001b[0;32m-> 3175\u001b[0m mimage\u001b[38;5;241m.\u001b[39m_draw_list_compositing_images(\n\u001b[1;32m   3176\u001b[0m     renderer, \u001b[38;5;28mself\u001b[39m, artists, \u001b[38;5;28mself\u001b[39m\u001b[38;5;241m.\u001b[39msuppressComposite)\n\u001b[1;32m   3178\u001b[0m \u001b[38;5;28;01mfor\u001b[39;00m sfig \u001b[38;5;129;01min\u001b[39;00m \u001b[38;5;28mself\u001b[39m\u001b[38;5;241m.\u001b[39msubfigs:\n\u001b[1;32m   3179\u001b[0m     sfig\u001b[38;5;241m.\u001b[39mdraw(renderer)\n",
      "File \u001b[0;32m~/anaconda3/lib/python3.11/site-packages/matplotlib/image.py:131\u001b[0m, in \u001b[0;36m_draw_list_compositing_images\u001b[0;34m(renderer, parent, artists, suppress_composite)\u001b[0m\n\u001b[1;32m    129\u001b[0m \u001b[38;5;28;01mif\u001b[39;00m not_composite \u001b[38;5;129;01mor\u001b[39;00m \u001b[38;5;129;01mnot\u001b[39;00m has_images:\n\u001b[1;32m    130\u001b[0m     \u001b[38;5;28;01mfor\u001b[39;00m a \u001b[38;5;129;01min\u001b[39;00m artists:\n\u001b[0;32m--> 131\u001b[0m         a\u001b[38;5;241m.\u001b[39mdraw(renderer)\n\u001b[1;32m    132\u001b[0m \u001b[38;5;28;01melse\u001b[39;00m:\n\u001b[1;32m    133\u001b[0m     \u001b[38;5;66;03m# Composite any adjacent images together\u001b[39;00m\n\u001b[1;32m    134\u001b[0m     image_group \u001b[38;5;241m=\u001b[39m []\n",
      "File \u001b[0;32m~/anaconda3/lib/python3.11/site-packages/matplotlib/artist.py:72\u001b[0m, in \u001b[0;36mallow_rasterization.<locals>.draw_wrapper\u001b[0;34m(artist, renderer)\u001b[0m\n\u001b[1;32m     69\u001b[0m     \u001b[38;5;28;01mif\u001b[39;00m artist\u001b[38;5;241m.\u001b[39mget_agg_filter() \u001b[38;5;129;01mis\u001b[39;00m \u001b[38;5;129;01mnot\u001b[39;00m \u001b[38;5;28;01mNone\u001b[39;00m:\n\u001b[1;32m     70\u001b[0m         renderer\u001b[38;5;241m.\u001b[39mstart_filter()\n\u001b[0;32m---> 72\u001b[0m     \u001b[38;5;28;01mreturn\u001b[39;00m draw(artist, renderer)\n\u001b[1;32m     73\u001b[0m \u001b[38;5;28;01mfinally\u001b[39;00m:\n\u001b[1;32m     74\u001b[0m     \u001b[38;5;28;01mif\u001b[39;00m artist\u001b[38;5;241m.\u001b[39mget_agg_filter() \u001b[38;5;129;01mis\u001b[39;00m \u001b[38;5;129;01mnot\u001b[39;00m \u001b[38;5;28;01mNone\u001b[39;00m:\n",
      "File \u001b[0;32m~/anaconda3/lib/python3.11/site-packages/matplotlib/axes/_base.py:3064\u001b[0m, in \u001b[0;36m_AxesBase.draw\u001b[0;34m(self, renderer)\u001b[0m\n\u001b[1;32m   3061\u001b[0m \u001b[38;5;28;01mif\u001b[39;00m artists_rasterized:\n\u001b[1;32m   3062\u001b[0m     _draw_rasterized(\u001b[38;5;28mself\u001b[39m\u001b[38;5;241m.\u001b[39mfigure, artists_rasterized, renderer)\n\u001b[0;32m-> 3064\u001b[0m mimage\u001b[38;5;241m.\u001b[39m_draw_list_compositing_images(\n\u001b[1;32m   3065\u001b[0m     renderer, \u001b[38;5;28mself\u001b[39m, artists, \u001b[38;5;28mself\u001b[39m\u001b[38;5;241m.\u001b[39mfigure\u001b[38;5;241m.\u001b[39msuppressComposite)\n\u001b[1;32m   3067\u001b[0m renderer\u001b[38;5;241m.\u001b[39mclose_group(\u001b[38;5;124m'\u001b[39m\u001b[38;5;124maxes\u001b[39m\u001b[38;5;124m'\u001b[39m)\n\u001b[1;32m   3068\u001b[0m \u001b[38;5;28mself\u001b[39m\u001b[38;5;241m.\u001b[39mstale \u001b[38;5;241m=\u001b[39m \u001b[38;5;28;01mFalse\u001b[39;00m\n",
      "File \u001b[0;32m~/anaconda3/lib/python3.11/site-packages/matplotlib/image.py:131\u001b[0m, in \u001b[0;36m_draw_list_compositing_images\u001b[0;34m(renderer, parent, artists, suppress_composite)\u001b[0m\n\u001b[1;32m    129\u001b[0m \u001b[38;5;28;01mif\u001b[39;00m not_composite \u001b[38;5;129;01mor\u001b[39;00m \u001b[38;5;129;01mnot\u001b[39;00m has_images:\n\u001b[1;32m    130\u001b[0m     \u001b[38;5;28;01mfor\u001b[39;00m a \u001b[38;5;129;01min\u001b[39;00m artists:\n\u001b[0;32m--> 131\u001b[0m         a\u001b[38;5;241m.\u001b[39mdraw(renderer)\n\u001b[1;32m    132\u001b[0m \u001b[38;5;28;01melse\u001b[39;00m:\n\u001b[1;32m    133\u001b[0m     \u001b[38;5;66;03m# Composite any adjacent images together\u001b[39;00m\n\u001b[1;32m    134\u001b[0m     image_group \u001b[38;5;241m=\u001b[39m []\n",
      "File \u001b[0;32m~/anaconda3/lib/python3.11/site-packages/matplotlib/artist.py:72\u001b[0m, in \u001b[0;36mallow_rasterization.<locals>.draw_wrapper\u001b[0;34m(artist, renderer)\u001b[0m\n\u001b[1;32m     69\u001b[0m     \u001b[38;5;28;01mif\u001b[39;00m artist\u001b[38;5;241m.\u001b[39mget_agg_filter() \u001b[38;5;129;01mis\u001b[39;00m \u001b[38;5;129;01mnot\u001b[39;00m \u001b[38;5;28;01mNone\u001b[39;00m:\n\u001b[1;32m     70\u001b[0m         renderer\u001b[38;5;241m.\u001b[39mstart_filter()\n\u001b[0;32m---> 72\u001b[0m     \u001b[38;5;28;01mreturn\u001b[39;00m draw(artist, renderer)\n\u001b[1;32m     73\u001b[0m \u001b[38;5;28;01mfinally\u001b[39;00m:\n\u001b[1;32m     74\u001b[0m     \u001b[38;5;28;01mif\u001b[39;00m artist\u001b[38;5;241m.\u001b[39mget_agg_filter() \u001b[38;5;129;01mis\u001b[39;00m \u001b[38;5;129;01mnot\u001b[39;00m \u001b[38;5;28;01mNone\u001b[39;00m:\n",
      "File \u001b[0;32m~/anaconda3/lib/python3.11/site-packages/matplotlib/patches.py:588\u001b[0m, in \u001b[0;36mPatch.draw\u001b[0;34m(self, renderer)\u001b[0m\n\u001b[1;32m    586\u001b[0m     \u001b[38;5;28;01mreturn\u001b[39;00m\n\u001b[1;32m    587\u001b[0m path \u001b[38;5;241m=\u001b[39m \u001b[38;5;28mself\u001b[39m\u001b[38;5;241m.\u001b[39mget_path()\n\u001b[0;32m--> 588\u001b[0m transform \u001b[38;5;241m=\u001b[39m \u001b[38;5;28mself\u001b[39m\u001b[38;5;241m.\u001b[39mget_transform()\n\u001b[1;32m    589\u001b[0m tpath \u001b[38;5;241m=\u001b[39m transform\u001b[38;5;241m.\u001b[39mtransform_path_non_affine(path)\n\u001b[1;32m    590\u001b[0m affine \u001b[38;5;241m=\u001b[39m transform\u001b[38;5;241m.\u001b[39mget_affine()\n",
      "File \u001b[0;32m~/anaconda3/lib/python3.11/site-packages/matplotlib/patches.py:264\u001b[0m, in \u001b[0;36mPatch.get_transform\u001b[0;34m(self)\u001b[0m\n\u001b[1;32m    262\u001b[0m \u001b[38;5;28;01mdef\u001b[39;00m \u001b[38;5;21mget_transform\u001b[39m(\u001b[38;5;28mself\u001b[39m):\n\u001b[1;32m    263\u001b[0m \u001b[38;5;250m    \u001b[39m\u001b[38;5;124;03m\"\"\"Return the `~.transforms.Transform` applied to the `Patch`.\"\"\"\u001b[39;00m\n\u001b[0;32m--> 264\u001b[0m     \u001b[38;5;28;01mreturn\u001b[39;00m \u001b[38;5;28mself\u001b[39m\u001b[38;5;241m.\u001b[39mget_patch_transform() \u001b[38;5;241m+\u001b[39m artist\u001b[38;5;241m.\u001b[39mArtist\u001b[38;5;241m.\u001b[39mget_transform(\u001b[38;5;28mself\u001b[39m)\n",
      "File \u001b[0;32m~/anaconda3/lib/python3.11/site-packages/matplotlib/patches.py:757\u001b[0m, in \u001b[0;36mRectangle.get_patch_transform\u001b[0;34m(self)\u001b[0m\n\u001b[1;32m    753\u001b[0m \u001b[38;5;28;01melse\u001b[39;00m:\n\u001b[1;32m    754\u001b[0m     rotation_point \u001b[38;5;241m=\u001b[39m \u001b[38;5;28mself\u001b[39m\u001b[38;5;241m.\u001b[39mrotation_point\n\u001b[1;32m    755\u001b[0m \u001b[38;5;28;01mreturn\u001b[39;00m transforms\u001b[38;5;241m.\u001b[39mBboxTransformTo(bbox) \\\n\u001b[1;32m    756\u001b[0m         \u001b[38;5;241m+\u001b[39m transforms\u001b[38;5;241m.\u001b[39mAffine2D() \\\n\u001b[0;32m--> 757\u001b[0m         \u001b[38;5;241m.\u001b[39mtranslate(\u001b[38;5;241m-\u001b[39mrotation_point[\u001b[38;5;241m0\u001b[39m], \u001b[38;5;241m-\u001b[39mrotation_point[\u001b[38;5;241m1\u001b[39m]) \\\n\u001b[1;32m    758\u001b[0m         \u001b[38;5;241m.\u001b[39mscale(\u001b[38;5;241m1\u001b[39m, \u001b[38;5;28mself\u001b[39m\u001b[38;5;241m.\u001b[39m_aspect_ratio_correction) \\\n\u001b[1;32m    759\u001b[0m         \u001b[38;5;241m.\u001b[39mrotate_deg(\u001b[38;5;28mself\u001b[39m\u001b[38;5;241m.\u001b[39mangle) \\\n\u001b[1;32m    760\u001b[0m         \u001b[38;5;241m.\u001b[39mscale(\u001b[38;5;241m1\u001b[39m, \u001b[38;5;241m1\u001b[39m \u001b[38;5;241m/\u001b[39m \u001b[38;5;28mself\u001b[39m\u001b[38;5;241m.\u001b[39m_aspect_ratio_correction) \\\n\u001b[1;32m    761\u001b[0m         \u001b[38;5;241m.\u001b[39mtranslate(\u001b[38;5;241m*\u001b[39mrotation_point)\n",
      "File \u001b[0;32m~/anaconda3/lib/python3.11/site-packages/matplotlib/transforms.py:2051\u001b[0m, in \u001b[0;36mAffine2D.translate\u001b[0;34m(self, tx, ty)\u001b[0m\n\u001b[1;32m   2049\u001b[0m \u001b[38;5;28mself\u001b[39m\u001b[38;5;241m.\u001b[39m_mtx[\u001b[38;5;241m0\u001b[39m, \u001b[38;5;241m2\u001b[39m] \u001b[38;5;241m+\u001b[39m\u001b[38;5;241m=\u001b[39m tx\n\u001b[1;32m   2050\u001b[0m \u001b[38;5;28mself\u001b[39m\u001b[38;5;241m.\u001b[39m_mtx[\u001b[38;5;241m1\u001b[39m, \u001b[38;5;241m2\u001b[39m] \u001b[38;5;241m+\u001b[39m\u001b[38;5;241m=\u001b[39m ty\n\u001b[0;32m-> 2051\u001b[0m \u001b[38;5;28mself\u001b[39m\u001b[38;5;241m.\u001b[39minvalidate()\n\u001b[1;32m   2052\u001b[0m \u001b[38;5;28;01mreturn\u001b[39;00m \u001b[38;5;28mself\u001b[39m\n",
      "File \u001b[0;32m~/anaconda3/lib/python3.11/site-packages/matplotlib/transforms.py:165\u001b[0m, in \u001b[0;36mTransformNode.invalidate\u001b[0;34m(self)\u001b[0m\n\u001b[1;32m    163\u001b[0m \u001b[38;5;28;01mif\u001b[39;00m \u001b[38;5;28mself\u001b[39m\u001b[38;5;241m.\u001b[39mis_affine:\n\u001b[1;32m    164\u001b[0m     value \u001b[38;5;241m=\u001b[39m \u001b[38;5;28mself\u001b[39m\u001b[38;5;241m.\u001b[39mINVALID_AFFINE\n\u001b[0;32m--> 165\u001b[0m \u001b[38;5;28;01mreturn\u001b[39;00m \u001b[38;5;28mself\u001b[39m\u001b[38;5;241m.\u001b[39m_invalidate_internal(value, invalidating_node\u001b[38;5;241m=\u001b[39m\u001b[38;5;28mself\u001b[39m)\n",
      "File \u001b[0;32m~/anaconda3/lib/python3.11/site-packages/matplotlib/transforms.py:187\u001b[0m, in \u001b[0;36mTransformNode._invalidate_internal\u001b[0;34m(self, value, invalidating_node)\u001b[0m\n\u001b[1;32m    184\u001b[0m \u001b[38;5;28;01mif\u001b[39;00m \u001b[38;5;28mself\u001b[39m\u001b[38;5;241m.\u001b[39mpass_through \u001b[38;5;129;01mor\u001b[39;00m status_changed:\n\u001b[1;32m    185\u001b[0m     \u001b[38;5;28mself\u001b[39m\u001b[38;5;241m.\u001b[39m_invalid \u001b[38;5;241m=\u001b[39m value\n\u001b[0;32m--> 187\u001b[0m     \u001b[38;5;28;01mfor\u001b[39;00m parent \u001b[38;5;129;01min\u001b[39;00m \u001b[38;5;28mlist\u001b[39m(\u001b[38;5;28mself\u001b[39m\u001b[38;5;241m.\u001b[39m_parents\u001b[38;5;241m.\u001b[39mvalues()):\n\u001b[1;32m    188\u001b[0m         \u001b[38;5;66;03m# Dereference the weak reference\u001b[39;00m\n\u001b[1;32m    189\u001b[0m         parent \u001b[38;5;241m=\u001b[39m parent()\n\u001b[1;32m    190\u001b[0m         \u001b[38;5;28;01mif\u001b[39;00m parent \u001b[38;5;129;01mis\u001b[39;00m \u001b[38;5;129;01mnot\u001b[39;00m \u001b[38;5;28;01mNone\u001b[39;00m:\n",
      "\u001b[0;31mKeyboardInterrupt\u001b[0m: "
     ]
    }
   ],
   "source": [
    "# Predictor names for labeling\n",
    "predictor_names = ['Jaccard Coefficient', 'Adamic-Adar Index', 'Geodesic Distance',\n",
    "                   'Common Neighbors', 'Degree Product', 'Baseline']\n",
    "\n",
    "'''\n",
    "# Generate bar plots for each predictor\n",
    "for i, predictor in enumerate(predictors):\n",
    "    # Pick a random graph for this predictor\n",
    "    random_graph = random.choice(predictor)  # Select a random graph's scores\n",
    "\n",
    "    # Normalize the scores to scale them between 0 and 1\n",
    "    min_val = np.min(random_graph)\n",
    "    max_val = np.max(random_graph)\n",
    "    if max_val > min_val:\n",
    "        normalized_scores = (random_graph - min_val) / (max_val - min_val)\n",
    "    else:\n",
    "        normalized_scores = random_graph  # If all values are the same, no normalization needed\n",
    "\n",
    "    # Dynamically determine the number of bins based on the normalized data size\n",
    "    num_bins = max(50, len(normalized_scores) // 10)  # At least 50 bins or 1/10th of the data size\n",
    "    \n",
    "    # Plot histogram with many bins and set logarithmic scaling on both x-axis and y-axis\n",
    "    plt.figure(figsize=(8, 6))\n",
    "    plt.hist(normalized_scores, bins=np.logspace(np.log10(1e-4), 0, num_bins), edgecolor='black', log=True)\n",
    "    \n",
    "    plt.xscale('log')  # Set x-axis to logarithmic scale\n",
    "    plt.title(f'Distribution of Normalized Scores (Log-Log Scale): {predictor_names[i]}')\n",
    "    plt.xlabel('Normalized Score (Log Scale, 0-1)')\n",
    "    plt.ylabel('Log Frequency')\n",
    "    plt.grid(axis='y', linestyle='--', alpha=0.7)\n",
    "    \n",
    "    # Set custom x-ticks for better readability\n",
    "    plt.xticks([1e-4, 1e-3, 1e-2, 1e-1, 1], [\"0.0001\", \"0.001\", \"0.01\", \"0.1\", \"1\"])\n",
    "    \n",
    "    plt.show()\n",
    "\n",
    "\n",
    "    '''\n",
    "    # Generate bar plots for each predictor\n",
    "for i, predictor in enumerate(predictors):\n",
    "    # Pick a random graph for this predictor\n",
    "    random_graph = random.choice(predictor)  # Select a random graph's scores\n",
    "\n",
    "    # Normalize the scores to scale them between 0 and 1\n",
    "    min_val = np.min(random_graph)\n",
    "    max_val = np.max(random_graph)\n",
    "    if max_val > min_val:\n",
    "        normalized_scores = (random_graph - min_val) / (max_val - min_val)\n",
    "    else:\n",
    "        normalized_scores = random_graph  # If all values are the same, no normalization needed\n",
    "\n",
    "    # Dynamically determine the number of bins based on the normalized data size\n",
    "    num_bins = max(50, len(normalized_scores) // 10)  # At least 50 bins or 1/10th of the data size\n",
    "    \n",
    "    # Plot histogram with many bins and logarithmic scaling on y-axis\n",
    "    plt.figure(figsize=(8, 6))\n",
    "    plt.hist(normalized_scores, bins=num_bins, edgecolor='black', log=True)\n",
    "    \n",
    "    plt.title(f'Distribution of Normalized Scores: {predictor_names[i]}')\n",
    "    plt.xlabel('Normalized Score')\n",
    "    plt.ylabel('Log Frequency')\n",
    "    plt.grid(axis='y', linestyle='--', alpha=0.7)\n",
    "    plt.show()\n",
    "    "
   ]
  },
  {
   "cell_type": "code",
   "execution_count": null,
   "id": "8719347e",
   "metadata": {},
   "outputs": [],
   "source": []
  },
  {
   "cell_type": "code",
   "execution_count": null,
   "id": "4f11391c",
   "metadata": {},
   "outputs": [],
   "source": []
  }
 ],
 "metadata": {
  "kernelspec": {
   "display_name": "Python (myenv)",
   "language": "python",
   "name": "myenv"
  },
  "language_info": {
   "codemirror_mode": {
    "name": "ipython",
    "version": 3
   },
   "file_extension": ".py",
   "mimetype": "text/x-python",
   "name": "python",
   "nbconvert_exporter": "python",
   "pygments_lexer": "ipython3",
   "version": "3.11.5"
  }
 },
 "nbformat": 4,
 "nbformat_minor": 5
}
